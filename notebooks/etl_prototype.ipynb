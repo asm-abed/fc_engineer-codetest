{
 "cells": [
  {
   "cell_type": "code",
   "execution_count": 38,
   "metadata": {},
   "outputs": [],
   "source": [
    "import pandas as pd\n",
    "import logging\n",
    "from datetime import datetime"
   ]
  },
  {
   "cell_type": "code",
   "execution_count": 39,
   "metadata": {},
   "outputs": [],
   "source": [
    "## Loading data\n",
    "user_df = pd.read_csv('/workspaces/fc_engineer-codetest/data_sources/users-1.csv', delimiter=',', encoding='utf-8')\n",
    "pricing_df = pd.read_csv('/workspaces/fc_engineer-codetest/data_sources/pricing-1.csv', delimiter=',', encoding='utf-8')\n",
    "transactions_df = pd.read_csv('/workspaces/fc_engineer-codetest/data_sources/transactions-1.csv', delimiter=',', encoding='utf-8')"
   ]
  },
  {
   "cell_type": "code",
   "execution_count": 42,
   "metadata": {},
   "outputs": [],
   "source": [
    "## Implementing processing methods to ensure data quality and correct formatting\n",
    "transactions_df['amount'] = pd.to_numeric(transactions_df['amount'], errors='coerce') ## converting amount into numeric and adding 'coerce' to set invalids as NA\n",
    "transactions_df['trans_date'] = pd.to_datetime(transactions_df['trans_date'], format = 'ISO8601') ## converting date string to datetime format\n",
    "transactions_df = transactions_df.dropna(subset=['trans_date', 'amount']) ## this is to remove records where transaction date or amount is NA\n",
    "\n",
    "user_df['date_joined'] = pd.to_datetime(user_df['date_joined'], format = 'ISO8601') ## converting date string to datetime format"
   ]
  },
  {
   "cell_type": "code",
   "execution_count": 43,
   "metadata": {},
   "outputs": [],
   "source": [
    "## Applying transformation instructions\n",
    "user_df['email'] = user_df['email'].str.lower()\n",
    "transactions_df['product'] = transactions_df['product'].str.upper()"
   ]
  },
  {
   "cell_type": "code",
   "execution_count": 50,
   "metadata": {},
   "outputs": [],
   "source": [
    "## To calculate each user's spending\n",
    "user_spends = transactions_df.groupby('user_id')['amount'].sum().reset_index()\n",
    "user_spends.columns = ['user_id', 'total_spent']\n",
    "\n",
    "user_df2 = user_df.merge(user_spends, on='user_id', how='left')"
   ]
  },
  {
   "cell_type": "code",
   "execution_count": 51,
   "metadata": {},
   "outputs": [
    {
     "data": {
      "text/html": [
       "<div>\n",
       "<style scoped>\n",
       "    .dataframe tbody tr th:only-of-type {\n",
       "        vertical-align: middle;\n",
       "    }\n",
       "\n",
       "    .dataframe tbody tr th {\n",
       "        vertical-align: top;\n",
       "    }\n",
       "\n",
       "    .dataframe thead th {\n",
       "        text-align: right;\n",
       "    }\n",
       "</style>\n",
       "<table border=\"1\" class=\"dataframe\">\n",
       "  <thead>\n",
       "    <tr style=\"text-align: right;\">\n",
       "      <th></th>\n",
       "      <th>user_id</th>\n",
       "      <th>name</th>\n",
       "      <th>email</th>\n",
       "      <th>date_joined</th>\n",
       "      <th>total_spent</th>\n",
       "    </tr>\n",
       "  </thead>\n",
       "  <tbody>\n",
       "    <tr>\n",
       "      <th>0</th>\n",
       "      <td>1</td>\n",
       "      <td>John Doe</td>\n",
       "      <td>johndoe@email.com</td>\n",
       "      <td>2022-01-01</td>\n",
       "      <td>6666.0</td>\n",
       "    </tr>\n",
       "    <tr>\n",
       "      <th>1</th>\n",
       "      <td>2</td>\n",
       "      <td>Jane Smith</td>\n",
       "      <td>janesmith@email.com</td>\n",
       "      <td>2022-01-05</td>\n",
       "      <td>10585.0</td>\n",
       "    </tr>\n",
       "    <tr>\n",
       "      <th>2</th>\n",
       "      <td>3</td>\n",
       "      <td>Robert Brown</td>\n",
       "      <td>robertbrown@email.net</td>\n",
       "      <td>2022-01-10</td>\n",
       "      <td>13187.0</td>\n",
       "    </tr>\n",
       "    <tr>\n",
       "      <th>3</th>\n",
       "      <td>4</td>\n",
       "      <td>Lucy Gray</td>\n",
       "      <td>lucy.gray@email.com</td>\n",
       "      <td>2022-02-01</td>\n",
       "      <td>14586.0</td>\n",
       "    </tr>\n",
       "    <tr>\n",
       "      <th>4</th>\n",
       "      <td>5</td>\n",
       "      <td>Michael Green</td>\n",
       "      <td>mgreen@email.org</td>\n",
       "      <td>2022-02-15</td>\n",
       "      <td>3487.0</td>\n",
       "    </tr>\n",
       "  </tbody>\n",
       "</table>\n",
       "</div>"
      ],
      "text/plain": [
       "   user_id           name                  email date_joined  total_spent\n",
       "0        1       John Doe      johndoe@email.com  2022-01-01       6666.0\n",
       "1        2     Jane Smith    janesmith@email.com  2022-01-05      10585.0\n",
       "2        3   Robert Brown  robertbrown@email.net  2022-01-10      13187.0\n",
       "3        4      Lucy Gray    lucy.gray@email.com  2022-02-01      14586.0\n",
       "4        5  Michael Green       mgreen@email.org  2022-02-15       3487.0"
      ]
     },
     "execution_count": 51,
     "metadata": {},
     "output_type": "execute_result"
    }
   ],
   "source": [
    "user_df2"
   ]
  }
 ],
 "metadata": {
  "kernelspec": {
   "display_name": "Python 3",
   "language": "python",
   "name": "python3"
  },
  "language_info": {
   "codemirror_mode": {
    "name": "ipython",
    "version": 3
   },
   "file_extension": ".py",
   "mimetype": "text/x-python",
   "name": "python",
   "nbconvert_exporter": "python",
   "pygments_lexer": "ipython3",
   "version": "3.10.13"
  }
 },
 "nbformat": 4,
 "nbformat_minor": 2
}
