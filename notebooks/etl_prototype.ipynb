{
 "cells": [
  {
   "cell_type": "code",
   "execution_count": 28,
   "metadata": {},
   "outputs": [],
   "source": [
    "import pandas as pd\n",
    "import logging\n",
    "import sqlite3\n",
    "from datetime import datetime\n",
    "\n",
    "# Configure logging\n",
    "logging.basicConfig(filename='etl.log', level=logging.INFO, format='%(asctime)s %(message)s')\n"
   ]
  },
  {
   "cell_type": "code",
   "execution_count": 29,
   "metadata": {},
   "outputs": [],
   "source": [
    "## Loading data\n",
    "user_df = pd.read_csv('/workspaces/fc_engineer-codetest/data_sources/users-1.csv', delimiter=',', encoding='utf-8')\n",
    "pricing_df = pd.read_csv('/workspaces/fc_engineer-codetest/data_sources/pricing-1.csv', delimiter=',', encoding='utf-8')\n",
    "transactions_df = pd.read_csv('/workspaces/fc_engineer-codetest/data_sources/transactions-1.csv', delimiter=',', encoding='utf-8')"
   ]
  },
  {
   "cell_type": "code",
   "execution_count": 30,
   "metadata": {},
   "outputs": [],
   "source": [
    "## Implementing processing methods to ensure data quality and correct formatting\n",
    "transactions_df['amount'] = pd.to_numeric(transactions_df['amount'], errors='coerce') ## converting amount into numeric and adding 'coerce' to set invalids as NA\n",
    "transactions_df['trans_date'] = pd.to_datetime(transactions_df['trans_date'], format = 'ISO8601') ## converting date string to datetime format\n",
    "transactions_df2 = transactions_df.dropna(subset=['trans_date', 'amount']) ## this is to remove records where transaction date or amount is NA\n",
    "removed_rows = len(transactions_df2) - len(transactions_df)\n",
    "\n",
    "user_df['date_joined'] = pd.to_datetime(user_df['date_joined'], format = 'ISO8601') ## converting date string to datetime format"
   ]
  },
  {
   "cell_type": "code",
   "execution_count": 31,
   "metadata": {},
   "outputs": [],
   "source": [
    "## Applying transformation instructions\n",
    "user_df['email'] = user_df['email'].str.lower()\n",
    "transactions_df['product'] = transactions_df2['product'].str.upper()"
   ]
  },
  {
   "cell_type": "code",
   "execution_count": 32,
   "metadata": {},
   "outputs": [],
   "source": [
    "## To calculate each user's spending\n",
    "user_spends = transactions_df2.groupby('user_id')['amount'].sum().reset_index()\n",
    "user_spends.columns = ['user_id', 'total_spent']\n",
    "\n",
    "user_df2 = user_df.merge(user_spends, on='user_id', how='left')"
   ]
  },
  {
   "cell_type": "code",
   "execution_count": 33,
   "metadata": {},
   "outputs": [],
   "source": [
    "## Loading resulting dataframe to an SQLite database\n",
    "conn = sqlite3.connect('/workspaces/fc_engineer-codetest/users.db')\n",
    "user_df2.to_sql('Users', conn, if_exists='replace', index=False)\n",
    "\n",
    "# Logging\n",
    "logging.info(f'Processed {len(user_df)} records from users.csv')\n",
    "logging.info(f'Processed {len(transactions_df)} records from transactions.csv')\n",
    "logging.info(f'Removed {removed_rows} invalid rows in transactions.csv')\n",
    "logging.info(f'Loaded {len(user_df2)} records into the Users table')"
   ]
  }
 ],
 "metadata": {
  "kernelspec": {
   "display_name": "Python 3",
   "language": "python",
   "name": "python3"
  },
  "language_info": {
   "codemirror_mode": {
    "name": "ipython",
    "version": 3
   },
   "file_extension": ".py",
   "mimetype": "text/x-python",
   "name": "python",
   "nbconvert_exporter": "python",
   "pygments_lexer": "ipython3",
   "version": "3.10.13"
  }
 },
 "nbformat": 4,
 "nbformat_minor": 2
}
