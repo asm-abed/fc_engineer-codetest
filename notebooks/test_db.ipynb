{
 "cells": [
  {
   "cell_type": "code",
   "execution_count": 1,
   "metadata": {},
   "outputs": [
    {
     "name": "stdout",
     "output_type": "stream",
     "text": [
      "(1, 'John Doe', 'johndoe@email.com', '2022-01-01 00:00:00', 6666.0)\n",
      "(2, 'Jane Smith', 'janesmith@email.com', '2022-01-05 00:00:00', 10585.0)\n",
      "(3, 'Robert Brown', 'robertbrown@email.net', '2022-01-10 00:00:00', 13187.0)\n",
      "(4, 'Lucy Gray', 'lucy.gray@email.com', '2022-02-01 00:00:00', 14586.0)\n",
      "(5, 'Michael Green', 'mgreen@email.org', '2022-02-15 00:00:00', 3487.0)\n"
     ]
    }
   ],
   "source": [
    "import sqlite3\n",
    "\n",
    "# Path to the SQLite database\n",
    "db_path = '/workspaces/fc_engineer-codetest/users.db'\n",
    "\n",
    "# Connect to the database\n",
    "conn = sqlite3.connect(db_path)\n",
    "cursor = conn.cursor()\n",
    "\n",
    "# Execute a simple query to check the Users table\n",
    "try:\n",
    "    cursor.execute(\"SELECT * FROM Users LIMIT 5;\")\n",
    "    rows = cursor.fetchall()\n",
    "    for row in rows:\n",
    "        print(row)\n",
    "except Exception as e:\n",
    "    print(f\"Error: {e}\")\n",
    "\n",
    "# Close the connection\n",
    "conn.close()\n"
   ]
  },
  {
   "cell_type": "code",
   "execution_count": 2,
   "metadata": {},
   "outputs": [
    {
     "name": "stdout",
     "output_type": "stream",
     "text": [
      "Database integrity check passed.\n"
     ]
    }
   ],
   "source": [
    "import sqlite3\n",
    "\n",
    "db_path = '/workspaces/fc_engineer-codetest/users.db'\n",
    "\n",
    "conn = sqlite3.connect(db_path)\n",
    "cursor = conn.cursor()\n",
    "\n",
    "try:\n",
    "    cursor.execute(\"PRAGMA integrity_check;\")\n",
    "    result = cursor.fetchone()\n",
    "    if result[0] == 'ok':\n",
    "        print(\"Database integrity check passed.\")\n",
    "    else:\n",
    "        print(\"Database integrity check failed:\", result)\n",
    "except Exception as e:\n",
    "    print(f\"Error: {e}\")\n",
    "\n",
    "conn.close()\n"
   ]
  }
 ],
 "metadata": {
  "kernelspec": {
   "display_name": "Python 3",
   "language": "python",
   "name": "python3"
  },
  "language_info": {
   "codemirror_mode": {
    "name": "ipython",
    "version": 3
   },
   "file_extension": ".py",
   "mimetype": "text/x-python",
   "name": "python",
   "nbconvert_exporter": "python",
   "pygments_lexer": "ipython3",
   "version": "3.10.13"
  }
 },
 "nbformat": 4,
 "nbformat_minor": 2
}
